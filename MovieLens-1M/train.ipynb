{
 "cells": [
  {
   "cell_type": "code",
   "execution_count": 10,
   "metadata": {},
   "outputs": [],
   "source": [
    "import math\n",
    "import sys\n",
    "import numpy as np\n",
    "import paddle\n",
    "import paddle.fluid as fluid\n",
    "import paddle.fluid.layers as layers\n",
    "import paddle.fluid.nets as nets\n",
    "import os\n",
    "import matplotlib.pyplot as plt"
   ]
  },
  {
   "cell_type": "code",
   "execution_count": 2,
   "metadata": {},
   "outputs": [
    {
     "name": "stdout",
     "output_type": "stream",
     "text": [
      "<class 'dict'>\n",
      "<MovieInfo id(1), title(Toy Story ), categories(['Animation', \"Children's\", 'Comedy'])>\n",
      "<class 'paddle.dataset.movielens.MovieInfo'>\n",
      "[1, [15, 6, 17], [4685, 348]]\n",
      "<MovieInfo id(2), title(Jumanji ), categories(['Adventure', \"Children's\", 'Fantasy'])>\n",
      "[2, [4, 6, 13], [2348]]\n"
     ]
    }
   ],
   "source": [
    "movie_info = paddle.dataset.movielens.movie_info()\n",
    "print(type(movie_info))\n",
    "print(movie_info[1])\n",
    "print(type(movie_info[1]))\n",
    "print(movie_info[1].value())  # title 和 category 都被处理成了序列形式\n",
    "print(movie_info[2])\n",
    "print(movie_info[2].value())"
   ]
  },
  {
   "cell_type": "code",
   "execution_count": 3,
   "metadata": {},
   "outputs": [
    {
     "name": "stdout",
     "output_type": "stream",
     "text": [
      "<class 'dict'>\n",
      "<UserInfo id(1), gender(F), age(1), job(10)>\n",
      "<class 'paddle.dataset.movielens.UserInfo'>\n",
      "[1, 1, 0, 10]\n"
     ]
    }
   ],
   "source": [
    "user_info = paddle.dataset.movielens.user_info()\n",
    "print(type(user_info))\n",
    "print(user_info[1])\n",
    "print(type(user_info[1]))\n",
    "print(user_info[1].value())"
   ]
  },
  {
   "cell_type": "code",
   "execution_count": 4,
   "metadata": {},
   "outputs": [
    {
     "name": "stdout",
     "output_type": "stream",
     "text": [
      "<class 'function'>\n",
      "<class 'list'>\n",
      "[1, 1, 0, 10, 1193, [8], [2954, 349, 4624, 1921, 792, 639], [5.0]]\n",
      "User <UserInfo id(1), gender(F), age(1), job(10)> rates Movie <MovieInfo id(1193), title(One Flew Over the Cuckoo's Nest ), categories(['Drama'])> with Score [5.0]\n"
     ]
    }
   ],
   "source": [
    "# 打印某条训练数据\n",
    "train_set_creator = paddle.dataset.movielens.train()\n",
    "print(type(train_set_creator))\n",
    "train_sample = next(train_set_creator())\n",
    "print(type(train_sample))\n",
    "print(train_sample)\n",
    "uid = train_sample[0]\n",
    "mov_id = train_sample[len(user_info[uid].value())]\n",
    "print(\"User %s rates Movie %s with Score %s\"%(user_info[uid], movie_info[mov_id], train_sample[-1]))"
   ]
  },
  {
   "cell_type": "code",
   "execution_count": 5,
   "metadata": {},
   "outputs": [],
   "source": [
    "IS_SPARSE = True\n",
    "USE_GPU = False\n",
    "BATCH_SIZE = 256"
   ]
  },
  {
   "cell_type": "code",
   "execution_count": 6,
   "metadata": {},
   "outputs": [],
   "source": [
    "uid = layers.data(name='user_id', shape=[1], dtype='int64')\n",
    "usr_gender_id = layers.data(name='gender_id', shape=[1], dtype='int64')\n",
    "usr_age_id = layers.data(name='age_id', shape=[1], dtype=\"int64\")\n",
    "usr_job_id = layers.data(name='job_id', shape=[1], dtype=\"int64\")\n",
    "mov_id = layers.data(name='movie_id', shape=[1], dtype='int64')\n",
    "category_id = layers.data(\n",
    "    name='category_id', shape=[1], dtype='int64', lod_level=1)\n",
    "mov_title_id = layers.data(\n",
    "        name='movie_title', shape=[1], dtype='int64', lod_level=1)\n",
    "label = layers.data(name='score', shape=[1], dtype='float32')"
   ]
  },
  {
   "cell_type": "code",
   "execution_count": 7,
   "metadata": {},
   "outputs": [],
   "source": [
    "def get_usr_combined_features():\n",
    "    \n",
    "    global uid, usr_gender_id, usr_age_id, usr_job_id\n",
    "    \n",
    "    USR_DICT_SIZE = paddle.dataset.movielens.max_user_id() + 1\n",
    "    usr_emb = layers.embedding(\n",
    "        input=uid,\n",
    "        dtype='float32',\n",
    "        size=[USR_DICT_SIZE, 32],\n",
    "        param_attr='user_table',\n",
    "        is_sparse=IS_SPARSE)\n",
    "    usr_fc = layers.fc(input=usr_emb, size=32)\n",
    "    \n",
    "    USR_GENDER_DICT_SIZE = 2\n",
    "    usr_gender_emb = layers.embedding(\n",
    "        input=usr_gender_id,\n",
    "        size=[USR_GENDER_DICT_SIZE, 16],\n",
    "        param_attr='gender_table',\n",
    "        is_sparse=IS_SPARSE)\n",
    "    usr_gender_fc = layers.fc(input=usr_gender_emb, size=16)\n",
    "    \n",
    "    USR_AGE_DICT_SIZE = len(paddle.dataset.movielens.age_table)\n",
    "    usr_age_emb = layers.embedding(\n",
    "        input=usr_age_id,\n",
    "        size=[USR_AGE_DICT_SIZE, 16],\n",
    "        is_sparse=IS_SPARSE,\n",
    "        param_attr='age_table')\n",
    "    usr_age_fc = layers.fc(input=usr_age_emb, size=16)\n",
    "    \n",
    "    USR_JOB_DICT_SIZE = paddle.dataset.movielens.max_job_id() + 1\n",
    "    usr_job_emb = layers.embedding(\n",
    "        input=usr_job_id,\n",
    "        size=[USR_JOB_DICT_SIZE, 16],\n",
    "        param_attr='job_table',\n",
    "        is_sparse=IS_SPARSE)\n",
    "    usr_job_fc = layers.fc(input=usr_job_emb, size=16)\n",
    "    \n",
    "    concat_embed = layers.concat(\n",
    "        input=[usr_fc, usr_gender_fc, usr_age_fc, usr_job_fc],\n",
    "        axis=1)\n",
    "    \n",
    "    usr_combined_features = layers.fc(input=concat_embed, size=200, act=\"tanh\")\n",
    "    \n",
    "    return usr_combined_features"
   ]
  },
  {
   "cell_type": "code",
   "execution_count": 8,
   "metadata": {},
   "outputs": [],
   "source": [
    "def get_mov_combined_features():\n",
    "\n",
    "    global mov_id, category_id, mov_title_id\n",
    "    \n",
    "    MOV_DICT_SIZE = paddle.dataset.movielens.max_movie_id() + 1\n",
    "    mov_emb = layers.embedding(\n",
    "        input=mov_id,\n",
    "        dtype='float32',\n",
    "        size=[MOV_DICT_SIZE, 32],\n",
    "        param_attr='movie_table',\n",
    "        is_sparse=IS_SPARSE)\n",
    "    mov_fc = layers.fc(input=mov_emb, size=32)\n",
    "\n",
    "    CATEGORY_DICT_SIZE = len(paddle.dataset.movielens.movie_categories())\n",
    "    mov_categories_emb = layers.embedding(\n",
    "        input=category_id, size=[CATEGORY_DICT_SIZE, 32], is_sparse=IS_SPARSE)\n",
    "    mov_categories_hidden = layers.sequence_pool(\n",
    "        input=mov_categories_emb, pool_type=\"sum\")\n",
    "    \n",
    "    MOV_TITLE_DICT_SIZE = len(paddle.dataset.movielens.get_movie_title_dict())    \n",
    "    mov_title_emb = layers.embedding(\n",
    "        input=mov_title_id, size=[MOV_TITLE_DICT_SIZE, 32], is_sparse=IS_SPARSE)\n",
    "    mov_title_conv = nets.sequence_conv_pool(\n",
    "        input=mov_title_emb,\n",
    "        num_filters=32,\n",
    "        filter_size=3,\n",
    "        act=\"tanh\",\n",
    "        pool_type=\"sum\")\n",
    "    \n",
    "    concat_embed = layers.concat(\n",
    "        input=[mov_fc, mov_categories_hidden, mov_title_conv], \n",
    "        axis=1)\n",
    "    \n",
    "    mov_combined_features = layers.fc(input=concat_embed, size=200, act=\"tanh\")\n",
    "\n",
    "    return mov_combined_features"
   ]
  },
  {
   "cell_type": "code",
   "execution_count": 9,
   "metadata": {},
   "outputs": [],
   "source": [
    "def inference_program():\n",
    "    # 用户向量\n",
    "    usr_combined_features = get_usr_combined_features()\n",
    "    # 电影向量\n",
    "    mov_combined_features = get_mov_combined_features()\n",
    "    # 余弦相似度\n",
    "    inference = layers.cos_sim(X=usr_combined_features, Y=mov_combined_features)\n",
    "    # 缩放到 0 ~ 5 之间\n",
    "    scale_infer = layers.scale(x=inference, scale=5.0) \n",
    "    return scale_infer\n",
    "\n",
    "scale_infer = inference_program()\n",
    "square_cost = layers.square_error_cost(input=scale_infer, label=label)\n",
    "avg_cost = layers.mean(square_cost)\n",
    "optimizer = fluid.optimizer.SGD(learning_rate=0.2) \n",
    "opts = optimizer.minimize(avg_cost)"
   ]
  },
  {
   "cell_type": "code",
   "execution_count": 11,
   "metadata": {},
   "outputs": [
    {
     "name": "stdout",
     "output_type": "stream",
     "text": [
      "Pass:0, Batch:0, Cost:9.67275\n",
      "Pass:0, Batch:200, Cost:3.52813\n",
      "Pass:0, Batch:400, Cost:4.78923\n",
      "Pass:0, Batch:600, Cost:4.76602\n",
      "Pass:0, Batch:800, Cost:4.27736\n",
      "Pass:0, Batch:1000, Cost:3.63871\n",
      "Pass:0, Batch:1200, Cost:4.19438\n",
      "Pass:0, Batch:1400, Cost:3.49573\n",
      "Pass:0, Batch:1600, Cost:4.52994\n",
      "Pass:0, Batch:1800, Cost:3.39870\n",
      "Pass:0, Batch:2000, Cost:3.76183\n",
      "Pass:0, Batch:2200, Cost:2.94742\n",
      "Pass:0, Batch:2400, Cost:3.30220\n",
      "Pass:0, Batch:2600, Cost:2.76413\n",
      "Pass:0, Batch:2800, Cost:3.67986\n",
      "Pass:0, Batch:3000, Cost:2.66672\n",
      "Pass:0, Batch:3200, Cost:3.70654\n",
      "Pass:0, Batch:3400, Cost:3.09849\n",
      "Test:0, Cost:3.45486\n",
      "Pass:1, Batch:0, Cost:3.37104\n",
      "Pass:1, Batch:200, Cost:2.82102\n",
      "Pass:1, Batch:400, Cost:3.02343\n",
      "Pass:1, Batch:600, Cost:3.81838\n",
      "Pass:1, Batch:800, Cost:3.25057\n",
      "Pass:1, Batch:1000, Cost:2.72824\n",
      "Pass:1, Batch:1200, Cost:3.19903\n",
      "Pass:1, Batch:1400, Cost:3.41268\n",
      "Pass:1, Batch:1600, Cost:3.29644\n",
      "Pass:1, Batch:1800, Cost:4.20925\n",
      "Pass:1, Batch:2000, Cost:4.18217\n",
      "Pass:1, Batch:2200, Cost:2.99929\n",
      "Pass:1, Batch:2400, Cost:3.04266\n",
      "Pass:1, Batch:2600, Cost:3.24790\n",
      "Pass:1, Batch:2800, Cost:2.96988\n",
      "Pass:1, Batch:3000, Cost:3.50733\n",
      "Pass:1, Batch:3200, Cost:2.96296\n",
      "Pass:1, Batch:3400, Cost:3.54386\n",
      "Test:1, Cost:3.36097\n"
     ]
    },
    {
     "data": {
      "image/png": "[encoded data removed]",
      "text/plain": [
       "<Figure size 432x288 with 1 Axes>"
      ]
     },
     "metadata": {
      "needs_background": "light"
     },
     "output_type": "display_data"
    }
   ],
   "source": [
    "all_train_iter=0\n",
    "all_train_iters=[]\n",
    "all_train_costs=[]\n",
    "all_train_accs=[]\n",
    "\n",
    "def draw_train_process(title,iters,costs,label_cost):\n",
    "    plt.title(title, fontsize=24)\n",
    "    plt.xlabel(\"iter\", fontsize=20)\n",
    "    plt.ylabel(\"cost\", fontsize=20)\n",
    "    plt.plot(iters, costs,color='red',label=label_cost) \n",
    "    plt.legend()\n",
    "    plt.grid()\n",
    "    plt.show()\n",
    "\n",
    "# 准备数据\n",
    "train_reader = paddle.batch(\n",
    "    paddle.reader.shuffle(\n",
    "        paddle.dataset.movielens.train(), buf_size=8192),\n",
    "    batch_size=BATCH_SIZE)\n",
    "\n",
    "test_reader = paddle.batch(\n",
    "    paddle.dataset.movielens.test(), batch_size=BATCH_SIZE)\n",
    "\n",
    "# 定义运算场所\n",
    "use_cuda = False\n",
    "place = fluid.CUDAPlace(0) if use_cuda else fluid.CPUPlace()\n",
    "\n",
    "test_program = fluid.default_main_program().clone(for_test=True)  # 获取测试程序\n",
    "exe = fluid.Executor(place)\n",
    "exe.run(fluid.default_startup_program())\n",
    "\n",
    "# 定义 DataFeeder\n",
    "feeder = fluid.DataFeeder(place=place, feed_list=[uid, usr_gender_id, usr_age_id, usr_job_id,\n",
    "                                                  mov_id, category_id, mov_title_id,\n",
    "                                                  label])\n",
    "\n",
    "# 训练\n",
    "EPOCH_NUM=2\n",
    "model_save_dir = \"./model/recommender_system.inference.model\"\n",
    "for pass_id in range(EPOCH_NUM):\n",
    "    for batch_id, data in enumerate(train_reader()):\n",
    "        train_cost = exe.run(program=fluid.default_main_program(),  # 运行主程序\n",
    "                            feed=feeder.feed(data),\n",
    "                            fetch_list=[avg_cost])\n",
    "        all_train_iter=all_train_iter+BATCH_SIZE\n",
    "        all_train_iters.append(all_train_iter)\n",
    "        all_train_costs.append(train_cost[0])\n",
    "        # 每200个batch打印一次信息  误差、准确率\n",
    "        if batch_id % 200 == 0:\n",
    "            print('Pass:%d, Batch:%d, Cost:%0.5f' % (pass_id, batch_id, train_cost[0]))\n",
    "    # 进行测试\n",
    "    test_costs = []\n",
    "    #每训练一轮 进行一次测试\n",
    "    for batch_id, data in enumerate(test_reader()):\n",
    "        test_cost = exe.run(program=test_program,\n",
    "                            feed=feeder.feed(data),\n",
    "                            fetch_list=[avg_cost])\n",
    "        test_costs.append(test_cost[0])\n",
    "    # 求测试结果的平均值\n",
    "    test_cost = (sum(test_costs) / len(test_costs))\n",
    "    print('Test:%d, Cost:%0.5f' % (pass_id, test_cost))\n",
    "# 画 loass 曲线图\n",
    "draw_train_process(\"training\",all_train_iters,all_train_costs,\"trainning cost\")"
   ]
  },
  {
   "cell_type": "code",
   "execution_count": 12,
   "metadata": {},
   "outputs": [
    {
     "name": "stdout",
     "output_type": "stream",
     "text": [
      "save models to ./model/recommender_system.inference.model\n",
      "训练模型保存完成\n"
     ]
    }
   ],
   "source": [
    "# 保存模型\n",
    "if not os.path.exists(model_save_dir):\n",
    "    os.makedirs(model_save_dir)\n",
    "print ('save models to %s' % (model_save_dir))\n",
    "fluid.io.save_inference_model(model_save_dir,  # 模型路径\n",
    "                              # 推理时需要 feed 的数据，与模型输入 tensor 的 name 对应\n",
    "                              [\"user_id\", \"gender_id\", \"age_id\", \"job_id\",\n",
    "                               \"movie_id\", \"category_id\", \"movie_title\"],\n",
    "                              [scale_infer], # 保存推理（inference）结果的 Variables\n",
    "                              exe) # executor 保存 inference model\n",
    "print('训练模型保存完成')"
   ]
  },
  {
   "cell_type": "code",
   "execution_count": 13,
   "metadata": {},
   "outputs": [
    {
     "name": "stdout",
     "output_type": "stream",
     "text": [
      "============================================================\n",
      "[<paddle.fluid.core_avx.LoDTensor object at 0x148a12930>]\n",
      "============================================================\n",
      "<class 'list'>\n",
      "============================================================\n",
      "\tlod: {{0, 1}}\n",
      "\tdim: 1, 1\n",
      "\tlayout: NCHW\n",
      "\tdtype: float\n",
      "\tdata: [2.53842]\n",
      "\n",
      "============================================================\n",
      "[[2.538422]]\n",
      "============================================================\n",
      "Predict Rating of user id 1 on movie \"Hunchback of Notre Dame, The \" is \tdim: 1, 1\n",
      "\tlayout: NCHW\n",
      "\tdtype: float\n",
      "\tdata: [2.53842]\n",
      "Actual Rating of user id 1 on movie \"Hunchback of Notre Dame, The \" is 4.\n"
     ]
    }
   ],
   "source": [
    "infer_exe = fluid.Executor(place)\n",
    "inference_scope = fluid.core.Scope()\n",
    "\n",
    "# 加载数据并开始预测\n",
    "with fluid.scope_guard(inference_scope):\n",
    "    # inference_program: 推理 program\n",
    "    # feed_target_names: 是一个str列表，它包含需要在推理 Program 中提供数据的变量的名称\n",
    "    # fetch_targets: 是一个 Variable 列表，从中我们可以得到推断结果\n",
    "    # model_path: 模型路径\n",
    "    # infer_exe: 运行 inference model 的 executor\n",
    "    [inference_program,                                        \n",
    "     feed_target_names,\n",
    "     fetch_targets\n",
    "    ] = fluid.io.load_inference_model(model_save_dir,\n",
    "                                      infer_exe)\n",
    "    # 构造数据用于推理\n",
    "    infer_movie_id = 783\n",
    "    infer_movie_name = paddle.dataset.movielens.movie_info()[infer_movie_id].title\n",
    "    user_id = fluid.create_lod_tensor([[1]], [[1]], place)\n",
    "    gender_id = fluid.create_lod_tensor([[1]], [[1]], place)\n",
    "    age_id = fluid.create_lod_tensor([[0]], [[1]], place)\n",
    "    job_id = fluid.create_lod_tensor([[10]], [[1]], place)\n",
    "    movie_id = fluid.create_lod_tensor([[783]], [[1]], place) # Hunchback of Notre Dame\n",
    "    category_id = fluid.create_lod_tensor([[10, 8, 9]], [[3]], place) # Animation, Children's, Musical\n",
    "    movie_title = fluid.create_lod_tensor([[1069, 4140, 2923, 710, 988]], [[5]],\n",
    "                                      place) # 'hunchback','of','notre','dame','the'\n",
    "    # 执行 executor 的 run 方法，调用推理 program，feed 数据，返回结果\n",
    "    results = infer_exe.run(\n",
    "        program=inference_program,\n",
    "        feed={feed_target_names[0]: user_id,\n",
    "            feed_target_names[1]: gender_id,\n",
    "            feed_target_names[2]: age_id,\n",
    "            feed_target_names[3]: job_id,\n",
    "            feed_target_names[4]: movie_id,\n",
    "            feed_target_names[5]: category_id,\n",
    "            feed_target_names[6]: movie_title},\n",
    "        return_numpy=False,\n",
    "        fetch_list=fetch_targets)\n",
    "    print(\"=\"*60)\n",
    "    print(results)\n",
    "    print(\"=\"*60)\n",
    "    print(type(results))\n",
    "    print(\"=\"*60)\n",
    "    print(results[0])\n",
    "    print(\"=\"*60)\n",
    "    print(np.array(results[0]))\n",
    "    print(\"=\"*60)\n",
    "    print(\"Predict Rating of user id 1 on movie \\\"\" + infer_movie_name + \"\\\" is \" + str(results[0][0]))\n",
    "    print(\"Actual Rating of user id 1 on movie \\\"\" + infer_movie_name + \"\\\" is 4.\")"
   ]
  }
 ],
 "metadata": {
  "kernelspec": {
   "display_name": "Python 3",
   "language": "python",
   "name": "python3"
  },
  "language_info": {
   "codemirror_mode": {
    "name": "ipython",
    "version": 3
   },
   "file_extension": ".py",
   "mimetype": "text/x-python",
   "name": "python",
   "nbconvert_exporter": "python",
   "pygments_lexer": "ipython3",
   "version": "3.7.5"
  }
 },
 "nbformat": 4,
 "nbformat_minor": 2
}
