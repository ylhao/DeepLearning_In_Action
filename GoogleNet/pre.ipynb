{
 "cells": [
  {
   "cell_type": "code",
   "execution_count": 1,
   "metadata": {},
   "outputs": [],
   "source": [
    "import codecs  \n",
    "import os  \n",
    "import random  \n",
    "import shutil  \n",
    "from PIL import Image"
   ]
  },
  {
   "cell_type": "code",
   "execution_count": 3,
   "metadata": {},
   "outputs": [
    {
     "name": "stdout",
     "output_type": "stream",
     "text": [
      "class list: ['daisy', 'dandelion', 'roses', 'sunflowers', 'tulips']\n"
     ]
    }
   ],
   "source": [
    "# 训练集占的比例\n",
    "train_ratio = 4.0 / 5\n",
    "\n",
    "all_file_dir = 'data/data2815'  \n",
    "class_list = [c for c in os.listdir(all_file_dir) \\\n",
    "              if os.path.isdir(os.path.join(all_file_dir, c)) \\\n",
    "              and not c.endswith('Set')]  \n",
    "class_list.sort()\n",
    "print(\"class list: {}\".format(class_list))\n",
    "# train dir\n",
    "train_image_dir = os.path.join(all_file_dir, \"trainImageSet\")  \n",
    "if not os.path.exists(train_image_dir):  \n",
    "    os.makedirs(train_image_dir)\n",
    "# test dir\n",
    "eval_image_dir = os.path.join(all_file_dir, \"evalImageSet\")  \n",
    "if not os.path.exists(eval_image_dir):  \n",
    "    os.makedirs(eval_image_dir)  \n",
    "\n",
    "train_file = codecs.open(os.path.join(all_file_dir, \"train.txt\"), 'w')  \n",
    "eval_file = codecs.open(os.path.join(all_file_dir, \"eval.txt\"), 'w')  \n",
    "  \n",
    "with codecs.open(os.path.join(all_file_dir, \"label_list.txt\"), \"w\") as label_list:  \n",
    "    label_id = 0\n",
    "    # 遍历所有类的文件夹\n",
    "    for class_dir in class_list:  \n",
    "        label_list.write(\"{0}\\t{1}\\n\".format(label_id, class_dir))  \n",
    "        image_path_pre = os.path.join(all_file_dir, class_dir)  \n",
    "        for file in os.listdir(image_path_pre):  \n",
    "            try:\n",
    "                # 如果文件打不开，这里会抛异常，通过这种方式清洗一下数据\n",
    "                img = Image.open(os.path.join(image_path_pre, file))  \n",
    "                if random.uniform(0, 1) <= train_ratio:  \n",
    "                    shutil.copyfile(os.path.join(image_path_pre, file), os.path.join(train_image_dir, file))  \n",
    "                    train_file.write(\"{0}\\t{1}\\n\".format(os.path.join(train_image_dir, file), label_id))  \n",
    "                else:  \n",
    "                    shutil.copyfile(os.path.join(image_path_pre, file), os.path.join(eval_image_dir, file))  \n",
    "                    eval_file.write(\"{0}\\t{1}\\n\".format(os.path.join(eval_image_dir, file), label_id))  \n",
    "            except Exception as e:  \n",
    "                pass  \n",
    "        label_id += 1  \n",
    "              \n",
    "train_file.close()\n",
    "eval_file.close()"
   ]
  },
  {
   "cell_type": "code",
   "execution_count": null,
   "metadata": {},
   "outputs": [],
   "source": []
  }
 ],
 "metadata": {
  "kernelspec": {
   "display_name": "Python 3",
   "language": "python",
   "name": "python3"
  },
  "language_info": {
   "codemirror_mode": {
    "name": "ipython",
    "version": 3
   },
   "file_extension": ".py",
   "mimetype": "text/x-python",
   "name": "python",
   "nbconvert_exporter": "python",
   "pygments_lexer": "ipython3",
   "version": "3.7.5"
  }
 },
 "nbformat": 4,
 "nbformat_minor": 2
}
